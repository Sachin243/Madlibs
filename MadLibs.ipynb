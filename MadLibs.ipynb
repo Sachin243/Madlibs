{
 "cells": [
  {
   "cell_type": "code",
   "execution_count": 22,
   "metadata": {},
   "outputs": [],
   "source": [
    "name = input(\"What is your name: \")\n",
    "std = input(\"In which class do you study: \")\n",
    "school = input(\"what is your school name: \")\n",
    "\n",
    "print(name + \" \" )\n",
    "print(' ' + std + \" \")\n",
    "print(' ' + school + \"  \")"
   ]
  },
  {
   "cell_type": "code",
   "execution_count": 13,
   "metadata": {},
   "outputs": [
    {
     "name": "stdout",
     "output_type": "stream",
     "text": [
      "what is your name: shivam pratap\n",
      "what are you doing: job\n",
      "where do you work: U.S.A\n",
      "how much salary do you earn: five lakh\n",
      "what is your boss name: jhon kitt\n",
      "my name is shivam pratap\n",
      "i am doingjob\n",
      "i work inU.S.A\n",
      "my salary is five lakh\n",
      "my boss is mr.jhon kitt\n"
     ]
    }
   ],
   "source": [
    "name=input(\"what is your name: \")\n",
    "work=input(\"what are you doing: \")\n",
    "where=input(\"where do you work: \")\n",
    "salary=input(\"how much salary do you earn: \")\n",
    "boss=input(\"what is your boss name: \")\n",
    "\n",
    "print(\"my name is \" + name)\n",
    "print(\"i am doing\" + work)\n",
    "print(\"i work in\" + where)\n",
    "print(\"my salary is \" + salary)\n",
    "print(\"my boss is mr.\" + boss)"
   ]
  },
  {
   "cell_type": "code",
   "execution_count": 36,
   "metadata": {},
   "outputs": [],
   "source": [
    "file = open('madlib.txt', 'w')\n",
    "file.write('sing a song \\n')\n",
    "file.write('listen a song')\n",
    "file.close()"
   ]
  },
  {
   "cell_type": "code",
   "execution_count": 38,
   "metadata": {},
   "outputs": [
    {
     "name": "stdout",
     "output_type": "stream",
     "text": [
      "Enter a noun: fuck\n",
      "listen a fuck\n"
     ]
    }
   ],
   "source": [
    "import random\n",
    "file = open('madlib.txt', 'r')\n",
    "text = file.readlines()\n",
    "madLib = random.choice(text)\n",
    "noun = input('Enter a noun: ')\n",
    "madLib = madLib.replace(\"song\", noun)\n",
    "print(madLib)"
   ]
  },
  {
   "cell_type": "code",
   "execution_count": null,
   "metadata": {},
   "outputs": [],
   "source": []
  },
  {
   "cell_type": "code",
   "execution_count": null,
   "metadata": {},
   "outputs": [],
   "source": []
  },
  {
   "cell_type": "code",
   "execution_count": null,
   "metadata": {},
   "outputs": [],
   "source": []
  },
  {
   "cell_type": "code",
   "execution_count": 19,
   "metadata": {},
   "outputs": [
    {
     "name": "stdout",
     "output_type": "stream",
     "text": [
      "This is an string\n"
     ]
    }
   ],
   "source": [
    "line = \"This is a string\"\n",
    "line = line.replace(\"a\", \"an\")\n",
    "print(line)"
   ]
  },
  {
   "cell_type": "code",
   "execution_count": 23,
   "metadata": {},
   "outputs": [
    {
     "name": "stdout",
     "output_type": "stream",
     "text": [
      "my name is sachin singhand m is fucjk\n"
     ]
    }
   ],
   "source": [
    "#Reading a file\n",
    "file = open('geek.txt', 'r') \n",
    "# This will print every line one by one in the file \n",
    "for each in file: \n",
    "    print (each) "
   ]
  },
  {
   "cell_type": "code",
   "execution_count": 21,
   "metadata": {},
   "outputs": [],
   "source": [
    "#writing a file\n",
    "file = open('geek.txt', 'w')\n",
    "\n",
    "file.write('my name is sachin singh')\n",
    "file.write('and m is fucjk')\n",
    "file.close()"
   ]
  },
  {
   "cell_type": "code",
   "execution_count": 26,
   "metadata": {},
   "outputs": [
    {
     "name": "stdout",
     "output_type": "stream",
     "text": [
      "my na\n"
     ]
    }
   ],
   "source": [
    "file = open('geek.txt', 'r') \n",
    "print(file.read(5))"
   ]
  },
  {
   "cell_type": "code",
   "execution_count": 27,
   "metadata": {},
   "outputs": [],
   "source": [
    "file = open('geek.txt', 'a')\n",
    "file.write('add a new line')\n",
    "file.close()"
   ]
  },
  {
   "cell_type": "code",
   "execution_count": 28,
   "metadata": {},
   "outputs": [],
   "source": [
    "file = open('geek.txt', 'w')\n",
    "file.write('this is new file')\n",
    "file.close()"
   ]
  },
  {
   "cell_type": "code",
   "execution_count": 30,
   "metadata": {},
   "outputs": [
    {
     "name": "stdout",
     "output_type": "stream",
     "text": [
      "thi\n",
      "s i\n",
      "s n\n",
      "ew \n"
     ]
    }
   ],
   "source": [
    "file = open('geek.txt', \"r\")\n",
    "for i in range(4):\n",
    "    print(file.read(3))\n",
    "file.close()"
   ]
  },
  {
   "cell_type": "code",
   "execution_count": 32,
   "metadata": {},
   "outputs": [
    {
     "name": "stdout",
     "output_type": "stream",
     "text": [
      "this is new file\n",
      "read again\n",
      "\n"
     ]
    }
   ],
   "source": [
    "file = open('geek.txt', 'r')\n",
    "print(file.read())\n",
    "print('read again')\n",
    "print(file.read())"
   ]
  },
  {
   "cell_type": "code",
   "execution_count": 33,
   "metadata": {},
   "outputs": [
    {
     "name": "stdout",
     "output_type": "stream",
     "text": [
      "16\n"
     ]
    }
   ],
   "source": [
    "file = open('geek.txt', 'r')\n",
    "str = file.read()\n",
    "print(len(str))\n",
    "file.close()"
   ]
  },
  {
   "cell_type": "code",
   "execution_count": 34,
   "metadata": {},
   "outputs": [
    {
     "name": "stdout",
     "output_type": "stream",
     "text": [
      "['this is new file']\n"
     ]
    }
   ],
   "source": [
    "file = open('geek.txt', 'r')\n",
    "print(file.readlines())\n",
    "file.close()"
   ]
  },
  {
   "cell_type": "code",
   "execution_count": null,
   "metadata": {},
   "outputs": [],
   "source": []
  }
 ],
 "metadata": {
  "kernelspec": {
   "display_name": "Python 3",
   "language": "python",
   "name": "python3"
  },
  "language_info": {
   "codemirror_mode": {
    "name": "ipython",
    "version": 3
   },
   "file_extension": ".py",
   "mimetype": "text/x-python",
   "name": "python",
   "nbconvert_exporter": "python",
   "pygments_lexer": "ipython3",
   "version": "3.8.6"
  }
 },
 "nbformat": 4,
 "nbformat_minor": 4
}
