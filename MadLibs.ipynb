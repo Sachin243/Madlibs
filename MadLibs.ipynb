{
 "cells": [
  {
   "cell_type": "markdown",
   "metadata": {},
   "source": [
    "# A madlib for getting some general info about a person"
   ]
  },
  {
   "cell_type": "code",
   "execution_count": 6,
   "metadata": {},
   "outputs": [
    {
     "name": "stdout",
     "output_type": "stream",
     "text": [
      "What is your name: sachin\n",
      "In which class do you study: 5\n",
      "what is your school name: union\n",
      "What is your father's name:dalvir\n",
      "What is your mother's name:kamlesh\n",
      "\n",
      "\n",
      "My name is Sachin.\n",
      "I study in class 5.\n",
      "My school name is Union.\n",
      "My father's name isDalvir.\n",
      "My mother's name isKamlesh.\n"
     ]
    }
   ],
   "source": [
    "name = input(\"What is your name: \")\n",
    "std = input(\"In which class do you study: \")\n",
    "school = input(\"what is your school name: \")\n",
    "fatherName = input(\"What is your father's name:\")\n",
    "motherName = input(\"What is your mother's name:\")\n",
    "print(\"\\n\")\n",
    "print(\"My name is \"+ name.capitalize() + \".\")\n",
    "print('I study in class ' + std + \".\")\n",
    "print('My school name is ' + school.capitalize() + \".\")\n",
    "print(\"My father's name is \" + fatherName.capitalize() + \".\")\n",
    "print(\"My mother's name is \" + motherName.capitalize() + \".\")"
   ]
  },
  {
   "cell_type": "markdown",
   "metadata": {},
   "source": [
    "# A madlib about favourite pet"
   ]
  },
  {
   "cell_type": "code",
   "execution_count": 8,
   "metadata": {},
   "outputs": [
    {
     "name": "stdout",
     "output_type": "stream",
     "text": [
      "Enter an animal name: tiger\n",
      "Enter a pet name: rocky\n",
      "Enter a color name: black\n",
      "Enter a veg food: bread\n",
      "Enter a non-veg food: chicken\n",
      "I have a tiger. His name is RockyHis colour is black. He like to eat breadand chicken\n"
     ]
    }
   ],
   "source": [
    "noun = input('Enter an animal name: ')\n",
    "name = input('Enter a pet name: ')\n",
    "color = input('Enter a color name: ')\n",
    "food1 = input('Enter a veg food: ')\n",
    "food2 = input('Enter a non-veg food: ')\n",
    "print('I have a '+ noun + '. His name is '+ name.capitalize()+ '. His colour is ' + color + '. He like to eat ' + food1 + 'and ' + food2)"
   ]
  },
  {
   "cell_type": "code",
   "execution_count": 11,
   "metadata": {},
   "outputs": [
    {
     "data": {
      "text/plain": [
       "'This was a string.'"
      ]
     },
     "execution_count": 11,
     "metadata": {},
     "output_type": "execute_result"
    }
   ],
   "source": [
    "string = \"This is a string.\"\n",
    "string.replace(' is', ' was')"
   ]
  },
  {
   "cell_type": "code",
   "execution_count": 1,
   "metadata": {},
   "outputs": [],
   "source": [
    "# Generating madlibs with a file.\n",
    "# open a file\n",
    "file = open('madlib2.txt', 'w')\n",
    "s = 'My name is Smith. \\n'\n",
    "file.write(s)\n",
    "file.write('My name is Sachin \\n')\n",
    "file.writelines('And my name is Harry. \\n Ohh, my name is John Wick.')\n",
    "file.close()"
   ]
  },
  {
   "cell_type": "code",
   "execution_count": 2,
   "metadata": {},
   "outputs": [
    {
     "name": "stdout",
     "output_type": "stream",
     "text": [
      "Enter a noun: tiger\n",
      "My tiger is Smith. \n",
      "\n"
     ]
    }
   ],
   "source": [
    "# Import random module to select random lines\n",
    "import random \n",
    "# Open file using r+ mode \n",
    "file = open('madlib2.txt', 'r+')\n",
    "# for reading lines in madlab file\n",
    "madlibText = file.readlines()\n",
    "# for choosing random line from file.\n",
    "madlib = random.choice(madlibText)\n",
    "# getting an input from user\n",
    "noun = input('Enter a noun: ')\n",
    "# Method to replace a word from file with us\n",
    "m = madlib.replace('name', noun)\n",
    "print(m)\n",
    "#file.close()"
   ]
  },
  {
   "cell_type": "code",
   "execution_count": null,
   "metadata": {},
   "outputs": [],
   "source": []
  }
 ],
 "metadata": {
  "kernelspec": {
   "display_name": "Python 3",
   "language": "python",
   "name": "python3"
  },
  "language_info": {
   "codemirror_mode": {
    "name": "ipython",
    "version": 3
   },
   "file_extension": ".py",
   "mimetype": "text/x-python",
   "name": "python",
   "nbconvert_exporter": "python",
   "pygments_lexer": "ipython3",
   "version": "3.8.6"
  }
 },
 "nbformat": 4,
 "nbformat_minor": 4
}
